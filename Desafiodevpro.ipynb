{
  "nbformat": 4,
  "nbformat_minor": 0,
  "metadata": {
    "colab": {
      "name": "Desafiodevpro.ipynb",
      "provenance": [],
      "authorship_tag": "ABX9TyNEO9ZRWGB+ARvYZbXnBdkl",
      "include_colab_link": true
    },
    "kernelspec": {
      "name": "python3",
      "display_name": "Python 3"
    },
    "language_info": {
      "name": "python"
    }
  },
  "cells": [
    {
      "cell_type": "markdown",
      "metadata": {
        "id": "view-in-github",
        "colab_type": "text"
      },
      "source": [
        "<a href=\"https://colab.research.google.com/github/pouster52/code_interview_training/blob/master/Desafiodevpro.ipynb\" target=\"_parent\"><img src=\"https://colab.research.google.com/assets/colab-badge.svg\" alt=\"Open In Colab\"/></a>"
      ]
    },
    {
      "cell_type": "markdown",
      "metadata": {
        "id": "OeKH9_N9n_mm"
      },
      "source": [
        "Nesse notebook vamos resolver vários exercicícos da [Lista da Python Brasil](https://wiki.python.org.br/ListaDeExercicios)"
      ]
    },
    {
      "cell_type": "markdown",
      "metadata": {
        "id": "v8OBuPjbqqzg"
      },
      "source": [
        "# [Estrutura Sequêncial ](https://wiki.python.org.br/EstruturaDeDecisao)"
      ]
    },
    {
      "cell_type": "markdown",
      "source": [
        "Exercício 1"
      ],
      "metadata": {
        "id": "tjABs6uAma8d"
      }
    },
    {
      "cell_type": "code",
      "source": [
        "print('Olá mundo')"
      ],
      "metadata": {
        "colab": {
          "base_uri": "https://localhost:8080/"
        },
        "id": "KHn6SzLcm5W5",
        "outputId": "21196f4a-c0c6-4208-862d-ba289ad9aff8"
      },
      "execution_count": 1,
      "outputs": [
        {
          "output_type": "stream",
          "name": "stdout",
          "text": [
            "Olá mundo\n"
          ]
        }
      ]
    },
    {
      "cell_type": "code",
      "source": [
        "type('Olá mundo')"
      ],
      "metadata": {
        "colab": {
          "base_uri": "https://localhost:8080/"
        },
        "id": "nnh7tB3OnQTf",
        "outputId": "05bb8a3c-e92a-4146-9984-5839d8cd2489"
      },
      "execution_count": 2,
      "outputs": [
        {
          "output_type": "execute_result",
          "data": {
            "text/plain": [
              "str"
            ]
          },
          "metadata": {},
          "execution_count": 2
        }
      ]
    },
    {
      "cell_type": "markdown",
      "source": [
        "Exercício 2"
      ],
      "metadata": {
        "id": "MOFO1LyCnt1H"
      }
    },
    {
      "cell_type": "code",
      "source": [
        "numero = input('Digite um numero:')\n",
        "print (f'o numero informado foi {numero}')"
      ],
      "metadata": {
        "colab": {
          "base_uri": "https://localhost:8080/"
        },
        "id": "8ErdfQv_olCp",
        "outputId": "2896833a-dd51-48d5-d9fb-91d07fc76ec7"
      },
      "execution_count": 12,
      "outputs": [
        {
          "output_type": "stream",
          "name": "stdout",
          "text": [
            "Digite um numero:853\n",
            "o numero informado foi 853\n"
          ]
        }
      ]
    },
    {
      "cell_type": "markdown",
      "source": [
        "Exercício 3"
      ],
      "metadata": {
        "id": "axZuKyhCsXWa"
      }
    },
    {
      "cell_type": "code",
      "source": [
        "numero_1 = int(input('digite um numero:'))\n",
        "numero_2 = int(input('digite outro numero:'))\n",
        "soma = numero_1 + numero_2\n",
        "print(f'a soma dos dois numeros é {soma}')"
      ],
      "metadata": {
        "colab": {
          "base_uri": "https://localhost:8080/"
        },
        "id": "IGiSisyYpl8Q",
        "outputId": "e4bf5379-1154-4665-d715-920a2c5dcc7e"
      },
      "execution_count": 18,
      "outputs": [
        {
          "output_type": "stream",
          "name": "stdout",
          "text": [
            "digite um numero:12\n",
            "digite outro numero:5\n",
            "a soma dos dois numeros é 17\n"
          ]
        }
      ]
    },
    {
      "cell_type": "markdown",
      "source": [
        "Lição de casa: exercício 17"
      ],
      "metadata": {
        "id": "GQQq8oTYvyP4"
      }
    },
    {
      "cell_type": "code",
      "source": [
        "import math\n",
        "\n",
        "area_a_ser_pintada = int(input('digite a area, em metros quadrados a ser pintada:'))# area em metros quadrados\n",
        "area_com_folga = area_a_ser_pintada * 1.1\n",
        "litros_por_metro = 6\n",
        "litros_a_serem_usados = area_com_folga / litros_por_metro\n",
        "litros_por_lata = 18\n",
        "numero_de_latas = math.ceil (litros_a_serem_usados / litros_por_lata)\n",
        "valor_com_apenas_latas = numero_de_latas * 80                                                       \n",
        "print(f'Você deverá usar {numero_de_latas} latas de 18 litros, novalor de R$ {valor_com_apenas_latas}')\n",
        "\n",
        "litros_por_galao = 3.6\n",
        "numero_de_galoes = math.ceil (litros_a_serem_usados / litros_por_galao)\n",
        "valor_com_apenas_galoes = numero_de_galoes * 25\n",
        "\n",
        "print(f'Você deverá usar {numero_de_galoes} galoes de 3.6 litros, novalor de R$ {valor_com_apenas_galoes}')\n",
        "\n",
        "# compra de tinta otimizada por valor\n",
        "numero_de_latas = math.floor (litros_a_serem_usados / litros_por_lata)\n",
        "valor_de_latas = numero_de_latas * 80\n",
        "litros_faltantes = litros_a_serem_usados % litros_por_lata\n",
        "numero_de_galoes = math.ceil (litros_faltantes/ litros_por_galao)\n",
        "valor_com_galoes = numero_de_galoes * 25\n",
        "\n",
        "valor_total = valor_de_latas + valor_com_galoes\n",
        "\n",
        "print(f'Você deverá usar {numero_de_latas} latas de 18 litros mais {numero_de_galoes} galoes de 3.6 litros, no valor de R$ {valor_total}') \n",
        "\n",
        "\n"
      ],
      "metadata": {
        "colab": {
          "base_uri": "https://localhost:8080/"
        },
        "id": "7godYa8Fwm6O",
        "outputId": "94150ad9-adec-4ea2-96be-e73cf608f58d"
      },
      "execution_count": 56,
      "outputs": [
        {
          "output_type": "stream",
          "name": "stdout",
          "text": [
            "digite a area, em metros quadrados a ser pintada:200\n",
            "Você deverá usar 3 latas de 18 litros, novalor de R$ 240\n",
            "Você deverá usar 11 galoes de 3.6 litros, novalor de R$ 275\n",
            "Você deverá usar 2 latas de 18 litros mais 1 galoes de 3.6 litros, no valor de R$ 185\n"
          ]
        }
      ]
    },
    {
      "cell_type": "code",
      "source": [
        ""
      ],
      "metadata": {
        "id": "Ezpy-QYEYzO8"
      },
      "execution_count": 56,
      "outputs": []
    }
  ]
}